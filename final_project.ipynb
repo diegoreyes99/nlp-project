{
 "cells": [
  {
   "cell_type": "code",
   "execution_count": 1,
   "id": "fd625c34",
   "metadata": {},
   "outputs": [
    {
     "name": "stderr",
     "output_type": "stream",
     "text": [
      "[nltk_data] Downloading package punkt to\n",
      "[nltk_data]     /Users/diegoreyes/nltk_data...\n",
      "[nltk_data]   Package punkt is already up-to-date!\n",
      "[nltk_data] Downloading package stopwords to\n",
      "[nltk_data]     /Users/diegoreyes/nltk_data...\n",
      "[nltk_data]   Package stopwords is already up-to-date!\n"
     ]
    },
    {
     "data": {
      "text/plain": [
       "True"
      ]
     },
     "execution_count": 1,
     "metadata": {},
     "output_type": "execute_result"
    }
   ],
   "source": [
    "import pandas as pd\n",
    "import nltk\n",
    "import matplotlib.pyplot as plt\n",
    "import seaborn as sns\n",
    "import xgboost as xgb\n",
    "\n",
    "from nltk.tokenize import word_tokenize\n",
    "from nltk.corpus import stopwords\n",
    "from nltk.stem import PorterStemmer\n",
    "from sklearn.feature_extraction.text import TfidfVectorizer\n",
    "from sklearn.model_selection import train_test_split\n",
    "from sklearn.linear_model import LogisticRegression\n",
    "from sklearn.tree import DecisionTreeClassifier\n",
    "from sklearn.ensemble import RandomForestClassifier\n",
    "from sklearn.metrics import confusion_matrix, classification_report, accuracy_score\n",
    "\n",
    "nltk.download('punkt')\n",
    "nltk.download('stopwords')"
   ]
  },
  {
   "cell_type": "code",
   "execution_count": 2,
   "id": "8fa1e1e0",
   "metadata": {},
   "outputs": [],
   "source": [
    "df_fake_news = pd.read_csv('dataset/Fake.csv')"
   ]
  },
  {
   "cell_type": "code",
   "execution_count": 3,
   "id": "4dde56ef",
   "metadata": {},
   "outputs": [
    {
     "data": {
      "text/html": [
       "<div>\n",
       "<style scoped>\n",
       "    .dataframe tbody tr th:only-of-type {\n",
       "        vertical-align: middle;\n",
       "    }\n",
       "\n",
       "    .dataframe tbody tr th {\n",
       "        vertical-align: top;\n",
       "    }\n",
       "\n",
       "    .dataframe thead th {\n",
       "        text-align: right;\n",
       "    }\n",
       "</style>\n",
       "<table border=\"1\" class=\"dataframe\">\n",
       "  <thead>\n",
       "    <tr style=\"text-align: right;\">\n",
       "      <th></th>\n",
       "      <th>title</th>\n",
       "      <th>text</th>\n",
       "      <th>subject</th>\n",
       "      <th>date</th>\n",
       "    </tr>\n",
       "  </thead>\n",
       "  <tbody>\n",
       "    <tr>\n",
       "      <th>0</th>\n",
       "      <td>Donald Trump Sends Out Embarrassing New Year’...</td>\n",
       "      <td>Donald Trump just couldn t wish all Americans ...</td>\n",
       "      <td>News</td>\n",
       "      <td>December 31, 2017</td>\n",
       "    </tr>\n",
       "    <tr>\n",
       "      <th>1</th>\n",
       "      <td>Drunk Bragging Trump Staffer Started Russian ...</td>\n",
       "      <td>House Intelligence Committee Chairman Devin Nu...</td>\n",
       "      <td>News</td>\n",
       "      <td>December 31, 2017</td>\n",
       "    </tr>\n",
       "    <tr>\n",
       "      <th>2</th>\n",
       "      <td>Sheriff David Clarke Becomes An Internet Joke...</td>\n",
       "      <td>On Friday, it was revealed that former Milwauk...</td>\n",
       "      <td>News</td>\n",
       "      <td>December 30, 2017</td>\n",
       "    </tr>\n",
       "    <tr>\n",
       "      <th>3</th>\n",
       "      <td>Trump Is So Obsessed He Even Has Obama’s Name...</td>\n",
       "      <td>On Christmas day, Donald Trump announced that ...</td>\n",
       "      <td>News</td>\n",
       "      <td>December 29, 2017</td>\n",
       "    </tr>\n",
       "    <tr>\n",
       "      <th>4</th>\n",
       "      <td>Pope Francis Just Called Out Donald Trump Dur...</td>\n",
       "      <td>Pope Francis used his annual Christmas Day mes...</td>\n",
       "      <td>News</td>\n",
       "      <td>December 25, 2017</td>\n",
       "    </tr>\n",
       "  </tbody>\n",
       "</table>\n",
       "</div>"
      ],
      "text/plain": [
       "                                               title  \\\n",
       "0   Donald Trump Sends Out Embarrassing New Year’...   \n",
       "1   Drunk Bragging Trump Staffer Started Russian ...   \n",
       "2   Sheriff David Clarke Becomes An Internet Joke...   \n",
       "3   Trump Is So Obsessed He Even Has Obama’s Name...   \n",
       "4   Pope Francis Just Called Out Donald Trump Dur...   \n",
       "\n",
       "                                                text subject  \\\n",
       "0  Donald Trump just couldn t wish all Americans ...    News   \n",
       "1  House Intelligence Committee Chairman Devin Nu...    News   \n",
       "2  On Friday, it was revealed that former Milwauk...    News   \n",
       "3  On Christmas day, Donald Trump announced that ...    News   \n",
       "4  Pope Francis used his annual Christmas Day mes...    News   \n",
       "\n",
       "                date  \n",
       "0  December 31, 2017  \n",
       "1  December 31, 2017  \n",
       "2  December 30, 2017  \n",
       "3  December 29, 2017  \n",
       "4  December 25, 2017  "
      ]
     },
     "execution_count": 3,
     "metadata": {},
     "output_type": "execute_result"
    }
   ],
   "source": [
    "df_fake_news.head()"
   ]
  },
  {
   "cell_type": "code",
   "execution_count": 4,
   "id": "c10d4100",
   "metadata": {},
   "outputs": [
    {
     "name": "stdout",
     "output_type": "stream",
     "text": [
      "                                                news Real or Fake\n",
      "0  Donald Trump just couldn t wish all Americans ...         Fake\n",
      "1  House Intelligence Committee Chairman Devin Nu...         Fake\n",
      "2  On Friday, it was revealed that former Milwauk...         Fake\n",
      "3  On Christmas day, Donald Trump announced that ...         Fake\n",
      "4  Pope Francis used his annual Christmas Day mes...         Fake\n"
     ]
    }
   ],
   "source": [
    "df_fake_news = df_fake_news[['text']]\n",
    "df_fake_news['Real or Fake'] = 'Fake'\n",
    "df_fake_news = df_fake_news.rename(columns={'text': 'news'})\n",
    "\n",
    "print(df_fake_news.head())"
   ]
  },
  {
   "cell_type": "code",
   "execution_count": 5,
   "id": "48601b90",
   "metadata": {},
   "outputs": [],
   "source": [
    "df_real_news = pd.read_csv('dataset/True.csv')"
   ]
  },
  {
   "cell_type": "code",
   "execution_count": 6,
   "id": "40a8fd42",
   "metadata": {},
   "outputs": [
    {
     "data": {
      "text/html": [
       "<div>\n",
       "<style scoped>\n",
       "    .dataframe tbody tr th:only-of-type {\n",
       "        vertical-align: middle;\n",
       "    }\n",
       "\n",
       "    .dataframe tbody tr th {\n",
       "        vertical-align: top;\n",
       "    }\n",
       "\n",
       "    .dataframe thead th {\n",
       "        text-align: right;\n",
       "    }\n",
       "</style>\n",
       "<table border=\"1\" class=\"dataframe\">\n",
       "  <thead>\n",
       "    <tr style=\"text-align: right;\">\n",
       "      <th></th>\n",
       "      <th>title</th>\n",
       "      <th>text</th>\n",
       "      <th>subject</th>\n",
       "      <th>date</th>\n",
       "    </tr>\n",
       "  </thead>\n",
       "  <tbody>\n",
       "    <tr>\n",
       "      <th>0</th>\n",
       "      <td>As U.S. budget fight looms, Republicans flip t...</td>\n",
       "      <td>WASHINGTON (Reuters) - The head of a conservat...</td>\n",
       "      <td>politicsNews</td>\n",
       "      <td>December 31, 2017</td>\n",
       "    </tr>\n",
       "    <tr>\n",
       "      <th>1</th>\n",
       "      <td>U.S. military to accept transgender recruits o...</td>\n",
       "      <td>WASHINGTON (Reuters) - Transgender people will...</td>\n",
       "      <td>politicsNews</td>\n",
       "      <td>December 29, 2017</td>\n",
       "    </tr>\n",
       "    <tr>\n",
       "      <th>2</th>\n",
       "      <td>Senior U.S. Republican senator: 'Let Mr. Muell...</td>\n",
       "      <td>WASHINGTON (Reuters) - The special counsel inv...</td>\n",
       "      <td>politicsNews</td>\n",
       "      <td>December 31, 2017</td>\n",
       "    </tr>\n",
       "    <tr>\n",
       "      <th>3</th>\n",
       "      <td>FBI Russia probe helped by Australian diplomat...</td>\n",
       "      <td>WASHINGTON (Reuters) - Trump campaign adviser ...</td>\n",
       "      <td>politicsNews</td>\n",
       "      <td>December 30, 2017</td>\n",
       "    </tr>\n",
       "    <tr>\n",
       "      <th>4</th>\n",
       "      <td>Trump wants Postal Service to charge 'much mor...</td>\n",
       "      <td>SEATTLE/WASHINGTON (Reuters) - President Donal...</td>\n",
       "      <td>politicsNews</td>\n",
       "      <td>December 29, 2017</td>\n",
       "    </tr>\n",
       "  </tbody>\n",
       "</table>\n",
       "</div>"
      ],
      "text/plain": [
       "                                               title  \\\n",
       "0  As U.S. budget fight looms, Republicans flip t...   \n",
       "1  U.S. military to accept transgender recruits o...   \n",
       "2  Senior U.S. Republican senator: 'Let Mr. Muell...   \n",
       "3  FBI Russia probe helped by Australian diplomat...   \n",
       "4  Trump wants Postal Service to charge 'much mor...   \n",
       "\n",
       "                                                text       subject  \\\n",
       "0  WASHINGTON (Reuters) - The head of a conservat...  politicsNews   \n",
       "1  WASHINGTON (Reuters) - Transgender people will...  politicsNews   \n",
       "2  WASHINGTON (Reuters) - The special counsel inv...  politicsNews   \n",
       "3  WASHINGTON (Reuters) - Trump campaign adviser ...  politicsNews   \n",
       "4  SEATTLE/WASHINGTON (Reuters) - President Donal...  politicsNews   \n",
       "\n",
       "                 date  \n",
       "0  December 31, 2017   \n",
       "1  December 29, 2017   \n",
       "2  December 31, 2017   \n",
       "3  December 30, 2017   \n",
       "4  December 29, 2017   "
      ]
     },
     "execution_count": 6,
     "metadata": {},
     "output_type": "execute_result"
    }
   ],
   "source": [
    "df_real_news.head()"
   ]
  },
  {
   "cell_type": "code",
   "execution_count": 7,
   "id": "a73d8cfa",
   "metadata": {},
   "outputs": [
    {
     "name": "stdout",
     "output_type": "stream",
     "text": [
      "                                                news Real or Fake\n",
      "0  WASHINGTON (Reuters) - The head of a conservat...         Real\n",
      "1  WASHINGTON (Reuters) - Transgender people will...         Real\n",
      "2  WASHINGTON (Reuters) - The special counsel inv...         Real\n",
      "3  WASHINGTON (Reuters) - Trump campaign adviser ...         Real\n",
      "4  SEATTLE/WASHINGTON (Reuters) - President Donal...         Real\n"
     ]
    }
   ],
   "source": [
    "df_real_news = df_real_news[['text']]\n",
    "df_real_news['Real or Fake'] = 'Real'\n",
    "df_real_news = df_real_news.rename(columns={'text': 'news'})\n",
    "\n",
    "print(df_real_news.head())"
   ]
  },
  {
   "cell_type": "code",
   "execution_count": 8,
   "id": "2e947a95",
   "metadata": {},
   "outputs": [
    {
     "name": "stdout",
     "output_type": "stream",
     "text": [
      "                                                    news Real or Fake\n",
      "0      Donald Trump just couldn t wish all Americans ...         Fake\n",
      "1      House Intelligence Committee Chairman Devin Nu...         Fake\n",
      "2      On Friday, it was revealed that former Milwauk...         Fake\n",
      "3      On Christmas day, Donald Trump announced that ...         Fake\n",
      "4      Pope Francis used his annual Christmas Day mes...         Fake\n",
      "...                                                  ...          ...\n",
      "44893  BRUSSELS (Reuters) - NATO allies on Tuesday we...         Real\n",
      "44894  LONDON (Reuters) - LexisNexis, a provider of l...         Real\n",
      "44895  MINSK (Reuters) - In the shadow of disused Sov...         Real\n",
      "44896  MOSCOW (Reuters) - Vatican Secretary of State ...         Real\n",
      "44897  JAKARTA (Reuters) - Indonesia will buy 11 Sukh...         Real\n",
      "\n",
      "[44898 rows x 2 columns]\n"
     ]
    }
   ],
   "source": [
    "df = pd.concat([df_fake_news, df_real_news], ignore_index=True)\n",
    "print(df)"
   ]
  },
  {
   "cell_type": "code",
   "execution_count": null,
   "id": "f0969612",
   "metadata": {},
   "outputs": [],
   "source": [
    "# Normalize\n",
    "def normalize_text(text):\n",
    "    \"\"\"\n",
    "    Esta función toma un texto, lo normaliza y devuelve el texto limpio.\n",
    "    \"\"\"\n",
    "    # Inicializar el Stemmer y las stopwords en inglés\n",
    "    stemmer = PorterStemmer()\n",
    "    stop_words = set(stopwords.words('english'))\n",
    "\n",
    "    # a. Convertir a minúsculas\n",
    "    text = text.lower()\n",
    "\n",
    "    # b. Tokenizar el texto\n",
    "    tokens = word_tokenize(text)\n",
    "\n",
    "    # c. Eliminar stopwords y puntuación, y aplicar stemming\n",
    "    cleaned_tokens = []\n",
    "    for token in tokens:\n",
    "        # Conservar solo tokens alfabéticos y que no sean stopwords\n",
    "        if token.isalpha() and token not in stop_words:\n",
    "            stemmed_token = stemmer.stem(token)\n",
    "            cleaned_tokens.append(stemmed_token)\n",
    "\n",
    "    # d. Unir los tokens de nuevo en un solo string\n",
    "    return \" \".join(cleaned_tokens)\n",
    "\n",
    "# Aplicamos la función a toda la columna 'news'\n",
    "df['news'] = df['news'].apply(normalize_text)\n"
   ]
  },
  {
   "cell_type": "code",
   "execution_count": 10,
   "id": "291c44c2",
   "metadata": {},
   "outputs": [
    {
     "name": "stdout",
     "output_type": "stream",
     "text": [
      "--- DataFrame con texto normalizado ---\n",
      "                                                    news Real or Fake\n",
      "0      donald trump wish american happi new year leav...         Fake\n",
      "1      hous intellig committe chairman devin nune go ...         Fake\n",
      "2      friday reveal former milwauke sheriff david cl...         Fake\n",
      "3      christma day donald trump announc would back w...         Fake\n",
      "4      pope franci use annual christma day messag reb...         Fake\n",
      "...                                                  ...          ...\n",
      "44893  brussel reuter nato alli tuesday welcom presid...         Real\n",
      "44894  london reuter lexisnexi provid legal regulator...         Real\n",
      "44895  minsk reuter shadow disus factori minsk street...         Real\n",
      "44896  moscow reuter vatican secretari state cardin p...         Real\n",
      "44897  jakarta reuter indonesia buy sukhoi fighter je...         Real\n",
      "\n",
      "[44898 rows x 2 columns]\n",
      "\n",
      "========================================\n",
      "\n",
      "--- Forma de la matriz TF-IDF ---\n",
      "(44898, 75434)\n",
      "\n",
      "========================================\n",
      "\n",
      "Tus datos están listos. 'X_tfidf' son tus características y 'y' tus etiquetas.\n"
     ]
    }
   ],
   "source": [
    "\n",
    "# --- 3. Vectorización con TF-IDF 🔢 ---\n",
    "\n",
    "# Inicializamos el vectorizador\n",
    "vectorizer = TfidfVectorizer()\n",
    "\n",
    "# Definimos las variables X (características) y y (objetivo)\n",
    "X = df['news']\n",
    "y = df['Real or Fake']\n",
    "\n",
    "# Creamos la matriz TF-IDF\n",
    "# .fit_transform() aprende el vocabulario y transforma los datos\n",
    "X_tfidf = vectorizer.fit_transform(X)\n",
    "\n",
    "\n",
    "# --- Resultados ---\n",
    "\n",
    "print(\"--- DataFrame con texto normalizado ---\")\n",
    "print(df)\n",
    "print(\"\\n\" + \"=\"*40 + \"\\n\")\n",
    "\n",
    "print(\"--- Forma de la matriz TF-IDF ---\")\n",
    "# Muestra (número de filas, número de palabras únicas en el vocabulario)\n",
    "print(X_tfidf.shape)\n",
    "print(\"\\n\" + \"=\"*40 + \"\\n\")\n",
    "\n",
    "print(\"Tus datos están listos. 'X_tfidf' son tus características y 'y' tus etiquetas.\")"
   ]
  },
  {
   "cell_type": "code",
   "execution_count": 11,
   "id": "3472f4dc",
   "metadata": {},
   "outputs": [
    {
     "data": {
      "text/html": [
       "<div>\n",
       "<style scoped>\n",
       "    .dataframe tbody tr th:only-of-type {\n",
       "        vertical-align: middle;\n",
       "    }\n",
       "\n",
       "    .dataframe tbody tr th {\n",
       "        vertical-align: top;\n",
       "    }\n",
       "\n",
       "    .dataframe thead th {\n",
       "        text-align: right;\n",
       "    }\n",
       "</style>\n",
       "<table border=\"1\" class=\"dataframe\">\n",
       "  <thead>\n",
       "    <tr style=\"text-align: right;\">\n",
       "      <th></th>\n",
       "      <th>news</th>\n",
       "      <th>Real or Fake</th>\n",
       "    </tr>\n",
       "  </thead>\n",
       "  <tbody>\n",
       "    <tr>\n",
       "      <th>0</th>\n",
       "      <td>donald trump wish american happi new year leav...</td>\n",
       "      <td>Fake</td>\n",
       "    </tr>\n",
       "    <tr>\n",
       "      <th>1</th>\n",
       "      <td>hous intellig committe chairman devin nune go ...</td>\n",
       "      <td>Fake</td>\n",
       "    </tr>\n",
       "    <tr>\n",
       "      <th>2</th>\n",
       "      <td>friday reveal former milwauke sheriff david cl...</td>\n",
       "      <td>Fake</td>\n",
       "    </tr>\n",
       "    <tr>\n",
       "      <th>3</th>\n",
       "      <td>christma day donald trump announc would back w...</td>\n",
       "      <td>Fake</td>\n",
       "    </tr>\n",
       "    <tr>\n",
       "      <th>4</th>\n",
       "      <td>pope franci use annual christma day messag reb...</td>\n",
       "      <td>Fake</td>\n",
       "    </tr>\n",
       "  </tbody>\n",
       "</table>\n",
       "</div>"
      ],
      "text/plain": [
       "                                                news Real or Fake\n",
       "0  donald trump wish american happi new year leav...         Fake\n",
       "1  hous intellig committe chairman devin nune go ...         Fake\n",
       "2  friday reveal former milwauke sheriff david cl...         Fake\n",
       "3  christma day donald trump announc would back w...         Fake\n",
       "4  pope franci use annual christma day messag reb...         Fake"
      ]
     },
     "execution_count": 11,
     "metadata": {},
     "output_type": "execute_result"
    }
   ],
   "source": [
    "df.head()"
   ]
  },
  {
   "cell_type": "code",
   "execution_count": 14,
   "id": "7a2cdbc2",
   "metadata": {},
   "outputs": [
    {
     "name": "stdout",
     "output_type": "stream",
     "text": [
      "<Compressed Sparse Row sparse matrix of dtype 'float64'\n",
      "\twith 6470814 stored elements and shape (44898, 75434)>\n",
      "  Coords\tValues\n",
      "  (0, 17722)\t0.04859146554100902\n",
      "  (0, 68115)\t0.08784471375242608\n",
      "  (0, 73356)\t0.1964363143789793\n",
      "  (0, 2242)\t0.039798700705717435\n",
      "  (0, 27131)\t0.19930793940614683\n",
      "  (0, 45591)\t0.19281886958335753\n",
      "  (0, 74337)\t0.26681985511853074\n",
      "  (0, 37058)\t0.027792944766473024\n",
      "  (0, 31003)\t0.030127245276802418\n",
      "  (0, 24864)\t0.02438186666793391\n",
      "  (0, 60353)\t0.04486466169632817\n",
      "  (0, 19776)\t0.2036828491122692\n",
      "  (0, 27440)\t0.33847247606075975\n",
      "  (0, 17218)\t0.15676350978609008\n",
      "  (0, 21150)\t0.11004132252474011\n",
      "  (0, 45626)\t0.060877948048517684\n",
      "  (0, 41394)\t0.0704746443928825\n",
      "  (0, 22826)\t0.02107932961715192\n",
      "  (0, 54337)\t0.03522510751521088\n",
      "  (0, 60361)\t0.02094917524730404\n",
      "  (0, 62882)\t0.03709463827170308\n",
      "  (0, 47826)\t0.03090413436547592\n",
      "  (0, 32824)\t0.026825740779118312\n",
      "  (0, 14054)\t0.03755440431120615\n",
      "  (0, 54009)\t0.10071991271318784\n",
      "  :\t:\n",
      "  (44897, 41343)\t0.06941144676425427\n",
      "  (44897, 65543)\t0.06359691950919602\n",
      "  (44897, 65466)\t0.07955806437636359\n",
      "  (44897, 52807)\t0.10420525790153302\n",
      "  (44897, 418)\t0.0813860693744135\n",
      "  (44897, 21997)\t0.1292531950655409\n",
      "  (44897, 71590)\t0.08534165714417473\n",
      "  (44897, 13120)\t0.27333054571496385\n",
      "  (44897, 31975)\t0.09608011423427462\n",
      "  (44897, 30629)\t0.3439839351570362\n",
      "  (44897, 15942)\t0.07671923906624428\n",
      "  (44897, 30630)\t0.2722805636254375\n",
      "  (44897, 13382)\t0.09741932674202064\n",
      "  (44897, 13561)\t0.0948606412371662\n",
      "  (44897, 4392)\t0.1779617538193607\n",
      "  (44897, 64011)\t0.13329987994793438\n",
      "  (44897, 22070)\t0.10646436766352606\n",
      "  (44897, 56632)\t0.13789239599295364\n",
      "  (44897, 57144)\t0.14486466478074458\n",
      "  (44897, 57142)\t0.14486466478074458\n",
      "  (44897, 63988)\t0.1503988658589111\n",
      "  (44897, 19811)\t0.1503988658589111\n",
      "  (44897, 38818)\t0.1503988658589111\n",
      "  (44897, 50207)\t0.1503988658589111\n",
      "  (44897, 50056)\t0.1503988658589111\n"
     ]
    }
   ],
   "source": [
    "print(X_tfidf)"
   ]
  },
  {
   "cell_type": "code",
   "execution_count": null,
   "id": "266c7b82",
   "metadata": {},
   "outputs": [],
   "source": []
  }
 ],
 "metadata": {
  "kernelspec": {
   "display_name": "Python 3",
   "language": "python",
   "name": "python3"
  },
  "language_info": {
   "codemirror_mode": {
    "name": "ipython",
    "version": 3
   },
   "file_extension": ".py",
   "mimetype": "text/x-python",
   "name": "python",
   "nbconvert_exporter": "python",
   "pygments_lexer": "ipython3",
   "version": "3.13.2"
  }
 },
 "nbformat": 4,
 "nbformat_minor": 5
}
